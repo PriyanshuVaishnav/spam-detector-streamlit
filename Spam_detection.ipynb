import pickle

with open('spam_model.pkl', 'wb') as f:
    pickle.dump(model, f)

with open('vectorizer.pkl', 'wb') as f:
    pickle.dump(tfidf, f)
